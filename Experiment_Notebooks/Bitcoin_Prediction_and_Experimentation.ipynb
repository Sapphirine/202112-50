{
  "nbformat": 4,
  "nbformat_minor": 0,
  "metadata": {
    "colab": {
      "name": "Bitcoin_Prediction_and_Experimentation.ipynb",
      "provenance": [],
      "collapsed_sections": []
    },
    "kernelspec": {
      "name": "python3",
      "display_name": "Python 3"
    },
    "language_info": {
      "name": "python"
    }
  },
  "cells": [
    {
      "cell_type": "code",
      "metadata": {
        "colab": {
          "base_uri": "https://localhost:8080/"
        },
        "id": "B1lE7MPBeHgg",
        "outputId": "f6d1464b-3714-42c1-a368-c0e3085564d2"
      },
      "source": [
        "pip install yfinance"
      ],
      "execution_count": 1,
      "outputs": [
        {
          "output_type": "stream",
          "name": "stdout",
          "text": [
            "Collecting yfinance\n",
            "  Downloading yfinance-0.1.67-py2.py3-none-any.whl (25 kB)\n",
            "Collecting lxml>=4.5.1\n",
            "  Downloading lxml-4.7.1-cp37-cp37m-manylinux_2_17_x86_64.manylinux2014_x86_64.manylinux_2_24_x86_64.whl (6.4 MB)\n",
            "\u001b[K     |████████████████████████████████| 6.4 MB 7.6 MB/s \n",
            "\u001b[?25hRequirement already satisfied: pandas>=0.24 in /usr/local/lib/python3.7/dist-packages (from yfinance) (1.1.5)\n",
            "Requirement already satisfied: numpy>=1.15 in /usr/local/lib/python3.7/dist-packages (from yfinance) (1.19.5)\n",
            "Requirement already satisfied: requests>=2.20 in /usr/local/lib/python3.7/dist-packages (from yfinance) (2.23.0)\n",
            "Requirement already satisfied: multitasking>=0.0.7 in /usr/local/lib/python3.7/dist-packages (from yfinance) (0.0.10)\n",
            "Requirement already satisfied: python-dateutil>=2.7.3 in /usr/local/lib/python3.7/dist-packages (from pandas>=0.24->yfinance) (2.8.2)\n",
            "Requirement already satisfied: pytz>=2017.2 in /usr/local/lib/python3.7/dist-packages (from pandas>=0.24->yfinance) (2018.9)\n",
            "Requirement already satisfied: six>=1.5 in /usr/local/lib/python3.7/dist-packages (from python-dateutil>=2.7.3->pandas>=0.24->yfinance) (1.15.0)\n",
            "Requirement already satisfied: chardet<4,>=3.0.2 in /usr/local/lib/python3.7/dist-packages (from requests>=2.20->yfinance) (3.0.4)\n",
            "Requirement already satisfied: urllib3!=1.25.0,!=1.25.1,<1.26,>=1.21.1 in /usr/local/lib/python3.7/dist-packages (from requests>=2.20->yfinance) (1.24.3)\n",
            "Requirement already satisfied: certifi>=2017.4.17 in /usr/local/lib/python3.7/dist-packages (from requests>=2.20->yfinance) (2021.10.8)\n",
            "Requirement already satisfied: idna<3,>=2.5 in /usr/local/lib/python3.7/dist-packages (from requests>=2.20->yfinance) (2.10)\n",
            "Installing collected packages: lxml, yfinance\n",
            "  Attempting uninstall: lxml\n",
            "    Found existing installation: lxml 4.2.6\n",
            "    Uninstalling lxml-4.2.6:\n",
            "      Successfully uninstalled lxml-4.2.6\n",
            "Successfully installed lxml-4.7.1 yfinance-0.1.67\n"
          ]
        }
      ]
    },
    {
      "cell_type": "code",
      "metadata": {
        "id": "iwCmHWcYeK4e"
      },
      "source": [
        "import pandas as pd\n",
        "import numpy as np\n",
        "from numpy import concatenate\n",
        "import yfinance as yf\n",
        "import matplotlib.pyplot as plt\n",
        "from math import sqrt\n",
        "from sklearn.metrics import mean_squared_error\n",
        "\n",
        "from keras.models import Sequential\n",
        "from keras.layers import LSTM\n",
        "from keras.layers import Dense"
      ],
      "execution_count": 2,
      "outputs": []
    },
    {
      "cell_type": "code",
      "metadata": {
        "colab": {
          "base_uri": "https://localhost:8080/"
        },
        "id": "p7wk5WcoeSqw",
        "outputId": "54557f41-83fe-465a-c1ec-213204419f9d"
      },
      "source": [
        "BTC = yf.download(tickers='BTC-USD', period = '777d', interval = '1d')\n",
        "ETH = yf.download(tickers='ETH-USD', period = '777d', interval = '1d')"
      ],
      "execution_count": 3,
      "outputs": [
        {
          "output_type": "stream",
          "name": "stdout",
          "text": [
            "[*********************100%***********************]  1 of 1 completed\n",
            "[*********************100%***********************]  1 of 1 completed\n"
          ]
        }
      ]
    },
    {
      "cell_type": "code",
      "metadata": {
        "colab": {
          "base_uri": "https://localhost:8080/",
          "height": 455
        },
        "id": "ldJgWmXigApD",
        "outputId": "ccb0bdec-413c-411f-cb21-f1f192d0a6e6"
      },
      "source": [
        "BTC"
      ],
      "execution_count": 4,
      "outputs": [
        {
          "output_type": "execute_result",
          "data": {
            "text/html": [
              "\n",
              "  <div id=\"df-a89b3095-7a7a-4361-8fef-f988926531da\">\n",
              "    <div class=\"colab-df-container\">\n",
              "      <div>\n",
              "<style scoped>\n",
              "    .dataframe tbody tr th:only-of-type {\n",
              "        vertical-align: middle;\n",
              "    }\n",
              "\n",
              "    .dataframe tbody tr th {\n",
              "        vertical-align: top;\n",
              "    }\n",
              "\n",
              "    .dataframe thead th {\n",
              "        text-align: right;\n",
              "    }\n",
              "</style>\n",
              "<table border=\"1\" class=\"dataframe\">\n",
              "  <thead>\n",
              "    <tr style=\"text-align: right;\">\n",
              "      <th></th>\n",
              "      <th>Open</th>\n",
              "      <th>High</th>\n",
              "      <th>Low</th>\n",
              "      <th>Close</th>\n",
              "      <th>Adj Close</th>\n",
              "      <th>Volume</th>\n",
              "    </tr>\n",
              "    <tr>\n",
              "      <th>Date</th>\n",
              "      <th></th>\n",
              "      <th></th>\n",
              "      <th></th>\n",
              "      <th></th>\n",
              "      <th></th>\n",
              "      <th></th>\n",
              "    </tr>\n",
              "  </thead>\n",
              "  <tbody>\n",
              "    <tr>\n",
              "      <th>2019-11-07</th>\n",
              "      <td>9352.393555</td>\n",
              "      <td>9368.476562</td>\n",
              "      <td>9202.353516</td>\n",
              "      <td>9267.561523</td>\n",
              "      <td>9267.561523</td>\n",
              "      <td>22700383839</td>\n",
              "    </tr>\n",
              "    <tr>\n",
              "      <th>2019-11-08</th>\n",
              "      <td>9265.368164</td>\n",
              "      <td>9272.759766</td>\n",
              "      <td>8775.534180</td>\n",
              "      <td>8804.880859</td>\n",
              "      <td>8804.880859</td>\n",
              "      <td>24333037836</td>\n",
              "    </tr>\n",
              "    <tr>\n",
              "      <th>2019-11-09</th>\n",
              "      <td>8809.468750</td>\n",
              "      <td>8891.818359</td>\n",
              "      <td>8793.163086</td>\n",
              "      <td>8813.582031</td>\n",
              "      <td>8813.582031</td>\n",
              "      <td>17578630606</td>\n",
              "    </tr>\n",
              "    <tr>\n",
              "      <th>2019-11-10</th>\n",
              "      <td>8812.489258</td>\n",
              "      <td>9103.826172</td>\n",
              "      <td>8806.162109</td>\n",
              "      <td>9055.526367</td>\n",
              "      <td>9055.526367</td>\n",
              "      <td>20587919881</td>\n",
              "    </tr>\n",
              "    <tr>\n",
              "      <th>2019-11-11</th>\n",
              "      <td>9056.917969</td>\n",
              "      <td>9081.279297</td>\n",
              "      <td>8700.608398</td>\n",
              "      <td>8757.788086</td>\n",
              "      <td>8757.788086</td>\n",
              "      <td>20265510765</td>\n",
              "    </tr>\n",
              "    <tr>\n",
              "      <th>...</th>\n",
              "      <td>...</td>\n",
              "      <td>...</td>\n",
              "      <td>...</td>\n",
              "      <td>...</td>\n",
              "      <td>...</td>\n",
              "      <td>...</td>\n",
              "    </tr>\n",
              "    <tr>\n",
              "      <th>2021-12-18</th>\n",
              "      <td>46219.253906</td>\n",
              "      <td>47313.828125</td>\n",
              "      <td>45598.441406</td>\n",
              "      <td>46848.777344</td>\n",
              "      <td>46848.777344</td>\n",
              "      <td>26098292690</td>\n",
              "    </tr>\n",
              "    <tr>\n",
              "      <th>2021-12-19</th>\n",
              "      <td>46853.867188</td>\n",
              "      <td>48089.664062</td>\n",
              "      <td>46502.953125</td>\n",
              "      <td>46707.015625</td>\n",
              "      <td>46707.015625</td>\n",
              "      <td>25154053861</td>\n",
              "    </tr>\n",
              "    <tr>\n",
              "      <th>2021-12-20</th>\n",
              "      <td>46707.062500</td>\n",
              "      <td>47401.718750</td>\n",
              "      <td>45579.808594</td>\n",
              "      <td>46880.277344</td>\n",
              "      <td>46880.277344</td>\n",
              "      <td>30961902129</td>\n",
              "    </tr>\n",
              "    <tr>\n",
              "      <th>2021-12-21</th>\n",
              "      <td>46886.078125</td>\n",
              "      <td>49300.917969</td>\n",
              "      <td>46698.773438</td>\n",
              "      <td>48936.613281</td>\n",
              "      <td>48936.613281</td>\n",
              "      <td>27055803928</td>\n",
              "    </tr>\n",
              "    <tr>\n",
              "      <th>2021-12-22</th>\n",
              "      <td>48849.886719</td>\n",
              "      <td>49536.398438</td>\n",
              "      <td>48694.000000</td>\n",
              "      <td>48843.546875</td>\n",
              "      <td>48843.546875</td>\n",
              "      <td>24536530944</td>\n",
              "    </tr>\n",
              "  </tbody>\n",
              "</table>\n",
              "<p>777 rows × 6 columns</p>\n",
              "</div>\n",
              "      <button class=\"colab-df-convert\" onclick=\"convertToInteractive('df-a89b3095-7a7a-4361-8fef-f988926531da')\"\n",
              "              title=\"Convert this dataframe to an interactive table.\"\n",
              "              style=\"display:none;\">\n",
              "        \n",
              "  <svg xmlns=\"http://www.w3.org/2000/svg\" height=\"24px\"viewBox=\"0 0 24 24\"\n",
              "       width=\"24px\">\n",
              "    <path d=\"M0 0h24v24H0V0z\" fill=\"none\"/>\n",
              "    <path d=\"M18.56 5.44l.94 2.06.94-2.06 2.06-.94-2.06-.94-.94-2.06-.94 2.06-2.06.94zm-11 1L8.5 8.5l.94-2.06 2.06-.94-2.06-.94L8.5 2.5l-.94 2.06-2.06.94zm10 10l.94 2.06.94-2.06 2.06-.94-2.06-.94-.94-2.06-.94 2.06-2.06.94z\"/><path d=\"M17.41 7.96l-1.37-1.37c-.4-.4-.92-.59-1.43-.59-.52 0-1.04.2-1.43.59L10.3 9.45l-7.72 7.72c-.78.78-.78 2.05 0 2.83L4 21.41c.39.39.9.59 1.41.59.51 0 1.02-.2 1.41-.59l7.78-7.78 2.81-2.81c.8-.78.8-2.07 0-2.86zM5.41 20L4 18.59l7.72-7.72 1.47 1.35L5.41 20z\"/>\n",
              "  </svg>\n",
              "      </button>\n",
              "      \n",
              "  <style>\n",
              "    .colab-df-container {\n",
              "      display:flex;\n",
              "      flex-wrap:wrap;\n",
              "      gap: 12px;\n",
              "    }\n",
              "\n",
              "    .colab-df-convert {\n",
              "      background-color: #E8F0FE;\n",
              "      border: none;\n",
              "      border-radius: 50%;\n",
              "      cursor: pointer;\n",
              "      display: none;\n",
              "      fill: #1967D2;\n",
              "      height: 32px;\n",
              "      padding: 0 0 0 0;\n",
              "      width: 32px;\n",
              "    }\n",
              "\n",
              "    .colab-df-convert:hover {\n",
              "      background-color: #E2EBFA;\n",
              "      box-shadow: 0px 1px 2px rgba(60, 64, 67, 0.3), 0px 1px 3px 1px rgba(60, 64, 67, 0.15);\n",
              "      fill: #174EA6;\n",
              "    }\n",
              "\n",
              "    [theme=dark] .colab-df-convert {\n",
              "      background-color: #3B4455;\n",
              "      fill: #D2E3FC;\n",
              "    }\n",
              "\n",
              "    [theme=dark] .colab-df-convert:hover {\n",
              "      background-color: #434B5C;\n",
              "      box-shadow: 0px 1px 3px 1px rgba(0, 0, 0, 0.15);\n",
              "      filter: drop-shadow(0px 1px 2px rgba(0, 0, 0, 0.3));\n",
              "      fill: #FFFFFF;\n",
              "    }\n",
              "  </style>\n",
              "\n",
              "      <script>\n",
              "        const buttonEl =\n",
              "          document.querySelector('#df-a89b3095-7a7a-4361-8fef-f988926531da button.colab-df-convert');\n",
              "        buttonEl.style.display =\n",
              "          google.colab.kernel.accessAllowed ? 'block' : 'none';\n",
              "\n",
              "        async function convertToInteractive(key) {\n",
              "          const element = document.querySelector('#df-a89b3095-7a7a-4361-8fef-f988926531da');\n",
              "          const dataTable =\n",
              "            await google.colab.kernel.invokeFunction('convertToInteractive',\n",
              "                                                     [key], {});\n",
              "          if (!dataTable) return;\n",
              "\n",
              "          const docLinkHtml = 'Like what you see? Visit the ' +\n",
              "            '<a target=\"_blank\" href=https://colab.research.google.com/notebooks/data_table.ipynb>data table notebook</a>'\n",
              "            + ' to learn more about interactive tables.';\n",
              "          element.innerHTML = '';\n",
              "          dataTable['output_type'] = 'display_data';\n",
              "          await google.colab.output.renderOutput(dataTable, element);\n",
              "          const docLink = document.createElement('div');\n",
              "          docLink.innerHTML = docLinkHtml;\n",
              "          element.appendChild(docLink);\n",
              "        }\n",
              "      </script>\n",
              "    </div>\n",
              "  </div>\n",
              "  "
            ],
            "text/plain": [
              "                    Open          High  ...     Adj Close       Volume\n",
              "Date                                    ...                           \n",
              "2019-11-07   9352.393555   9368.476562  ...   9267.561523  22700383839\n",
              "2019-11-08   9265.368164   9272.759766  ...   8804.880859  24333037836\n",
              "2019-11-09   8809.468750   8891.818359  ...   8813.582031  17578630606\n",
              "2019-11-10   8812.489258   9103.826172  ...   9055.526367  20587919881\n",
              "2019-11-11   9056.917969   9081.279297  ...   8757.788086  20265510765\n",
              "...                  ...           ...  ...           ...          ...\n",
              "2021-12-18  46219.253906  47313.828125  ...  46848.777344  26098292690\n",
              "2021-12-19  46853.867188  48089.664062  ...  46707.015625  25154053861\n",
              "2021-12-20  46707.062500  47401.718750  ...  46880.277344  30961902129\n",
              "2021-12-21  46886.078125  49300.917969  ...  48936.613281  27055803928\n",
              "2021-12-22  48849.886719  49536.398438  ...  48843.546875  24536530944\n",
              "\n",
              "[777 rows x 6 columns]"
            ]
          },
          "metadata": {},
          "execution_count": 4
        }
      ]
    },
    {
      "cell_type": "code",
      "source": [
        "BTC_graph = BTC.copy()\n",
        "BTC_graph = BTC_graph.drop(BTC_graph.tail(16).index)"
      ],
      "metadata": {
        "id": "f9oRlg4rBjf4"
      },
      "execution_count": 5,
      "outputs": []
    },
    {
      "cell_type": "code",
      "source": [
        "plt.figure(figsize=(14,5))\n",
        "plt.plot(BTC_graph['Open'], color = 'red', label = 'Real Bitcoin Price')\n",
        "plt.title('Bitcoin Price')\n",
        "plt.xlabel('Time')\n",
        "plt.ylabel('Price')\n",
        "plt.legend()\n",
        "plt.show()"
      ],
      "metadata": {
        "colab": {
          "base_uri": "https://localhost:8080/",
          "height": 350
        },
        "id": "Ca1zQR2dCFY2",
        "outputId": "df80b43e-d8a5-4016-ad3b-f58b0066d14d"
      },
      "execution_count": 6,
      "outputs": [
        {
          "output_type": "display_data",
          "data": {
            "image/png": "[encoded data removed]",
            "text/plain": [
              "<Figure size 1008x360 with 1 Axes>"
            ]
          },
          "metadata": {
            "needs_background": "light"
          }
        }
      ]
    },
    {
      "cell_type": "markdown",
      "metadata": {
        "id": "UKwsZcLdpguW"
      },
      "source": [
        "###LSTM Multivariate Model"
      ]
    },
    {
      "cell_type": "code",
      "metadata": {
        "id": "D2pTK7Cgpmt_"
      },
      "source": [
        "import numpy as np\n",
        "import matplotlib.pyplot as plt\n",
        "import pandas as pd\n",
        "from sklearn.preprocessing import MinMaxScaler\n",
        "\n",
        "from tensorflow.keras import Sequential\n",
        "from tensorflow.keras.layers import Dense, LSTM, Dropout"
      ],
      "execution_count": 7,
      "outputs": []
    },
    {
      "cell_type": "code",
      "source": [
        "timestep = 3\n",
        "\n",
        "epochs = 15\n",
        "batch_size = 50\n",
        "validation_split = 0.1\n",
        "train_test_split_date = '2021-09-05'"
      ],
      "metadata": {
        "id": "KfUNE7cHdrbY"
      },
      "execution_count": 18,
      "outputs": []
    },
    {
      "cell_type": "code",
      "source": [
        "reddit_data = pd.read_csv(\"group.csv\")\n",
        "reddit_data['Date']= pd.to_datetime(reddit_data['Date'])\n",
        "reddit_data = reddit_data.drop(columns=['Unnamed: 0'])\n",
        "reddit_data = reddit_data.rename(columns={\"0\":\"Average_Reddit_Sentiment\"})\n",
        "#reddit_data.tail()"
      ],
      "metadata": {
        "id": "oTHGkhehazqp"
      },
      "execution_count": 9,
      "outputs": []
    },
    {
      "cell_type": "code",
      "source": [
        "twitter_data = pd.read_csv(\"group2.csv\")\n",
        "twitter_data"
      ],
      "metadata": {
        "colab": {
          "base_uri": "https://localhost:8080/",
          "height": 424
        },
        "id": "a5wjbGsbH7sm",
        "outputId": "55430890-588d-4797-8493-dcae844c7f7c"
      },
      "execution_count": 10,
      "outputs": [
        {
          "output_type": "execute_result",
          "data": {
            "text/html": [
              "\n",
              "  <div id=\"df-d5baf95b-4b36-483d-a40e-4d8c46f00a18\">\n",
              "    <div class=\"colab-df-container\">\n",
              "      <div>\n",
              "<style scoped>\n",
              "    .dataframe tbody tr th:only-of-type {\n",
              "        vertical-align: middle;\n",
              "    }\n",
              "\n",
              "    .dataframe tbody tr th {\n",
              "        vertical-align: top;\n",
              "    }\n",
              "\n",
              "    .dataframe thead th {\n",
              "        text-align: right;\n",
              "    }\n",
              "</style>\n",
              "<table border=\"1\" class=\"dataframe\">\n",
              "  <thead>\n",
              "    <tr style=\"text-align: right;\">\n",
              "      <th></th>\n",
              "      <th>Unnamed: 0</th>\n",
              "      <th>Date</th>\n",
              "      <th>sentiment_value</th>\n",
              "    </tr>\n",
              "  </thead>\n",
              "  <tbody>\n",
              "    <tr>\n",
              "      <th>0</th>\n",
              "      <td>0</td>\n",
              "      <td>2019-11-01</td>\n",
              "      <td>0.125874</td>\n",
              "    </tr>\n",
              "    <tr>\n",
              "      <th>1</th>\n",
              "      <td>1</td>\n",
              "      <td>2019-11-02</td>\n",
              "      <td>0.150935</td>\n",
              "    </tr>\n",
              "    <tr>\n",
              "      <th>2</th>\n",
              "      <td>2</td>\n",
              "      <td>2019-11-03</td>\n",
              "      <td>0.150765</td>\n",
              "    </tr>\n",
              "    <tr>\n",
              "      <th>3</th>\n",
              "      <td>3</td>\n",
              "      <td>2019-11-04</td>\n",
              "      <td>0.153959</td>\n",
              "    </tr>\n",
              "    <tr>\n",
              "      <th>4</th>\n",
              "      <td>4</td>\n",
              "      <td>2019-11-05</td>\n",
              "      <td>0.229067</td>\n",
              "    </tr>\n",
              "    <tr>\n",
              "      <th>...</th>\n",
              "      <td>...</td>\n",
              "      <td>...</td>\n",
              "      <td>...</td>\n",
              "    </tr>\n",
              "    <tr>\n",
              "      <th>772</th>\n",
              "      <td>772</td>\n",
              "      <td>2021-12-12</td>\n",
              "      <td>-0.039450</td>\n",
              "    </tr>\n",
              "    <tr>\n",
              "      <th>773</th>\n",
              "      <td>773</td>\n",
              "      <td>2021-12-13</td>\n",
              "      <td>-0.099832</td>\n",
              "    </tr>\n",
              "    <tr>\n",
              "      <th>774</th>\n",
              "      <td>774</td>\n",
              "      <td>2021-12-14</td>\n",
              "      <td>0.023364</td>\n",
              "    </tr>\n",
              "    <tr>\n",
              "      <th>775</th>\n",
              "      <td>775</td>\n",
              "      <td>2021-12-15</td>\n",
              "      <td>0.054805</td>\n",
              "    </tr>\n",
              "    <tr>\n",
              "      <th>776</th>\n",
              "      <td>776</td>\n",
              "      <td>2021-12-16</td>\n",
              "      <td>-0.048986</td>\n",
              "    </tr>\n",
              "  </tbody>\n",
              "</table>\n",
              "<p>777 rows × 3 columns</p>\n",
              "</div>\n",
              "      <button class=\"colab-df-convert\" onclick=\"convertToInteractive('df-d5baf95b-4b36-483d-a40e-4d8c46f00a18')\"\n",
              "              title=\"Convert this dataframe to an interactive table.\"\n",
              "              style=\"display:none;\">\n",
              "        \n",
              "  <svg xmlns=\"http://www.w3.org/2000/svg\" height=\"24px\"viewBox=\"0 0 24 24\"\n",
              "       width=\"24px\">\n",
              "    <path d=\"M0 0h24v24H0V0z\" fill=\"none\"/>\n",
              "    <path d=\"M18.56 5.44l.94 2.06.94-2.06 2.06-.94-2.06-.94-.94-2.06-.94 2.06-2.06.94zm-11 1L8.5 8.5l.94-2.06 2.06-.94-2.06-.94L8.5 2.5l-.94 2.06-2.06.94zm10 10l.94 2.06.94-2.06 2.06-.94-2.06-.94-.94-2.06-.94 2.06-2.06.94z\"/><path d=\"M17.41 7.96l-1.37-1.37c-.4-.4-.92-.59-1.43-.59-.52 0-1.04.2-1.43.59L10.3 9.45l-7.72 7.72c-.78.78-.78 2.05 0 2.83L4 21.41c.39.39.9.59 1.41.59.51 0 1.02-.2 1.41-.59l7.78-7.78 2.81-2.81c.8-.78.8-2.07 0-2.86zM5.41 20L4 18.59l7.72-7.72 1.47 1.35L5.41 20z\"/>\n",
              "  </svg>\n",
              "      </button>\n",
              "      \n",
              "  <style>\n",
              "    .colab-df-container {\n",
              "      display:flex;\n",
              "      flex-wrap:wrap;\n",
              "      gap: 12px;\n",
              "    }\n",
              "\n",
              "    .colab-df-convert {\n",
              "      background-color: #E8F0FE;\n",
              "      border: none;\n",
              "      border-radius: 50%;\n",
              "      cursor: pointer;\n",
              "      display: none;\n",
              "      fill: #1967D2;\n",
              "      height: 32px;\n",
              "      padding: 0 0 0 0;\n",
              "      width: 32px;\n",
              "    }\n",
              "\n",
              "    .colab-df-convert:hover {\n",
              "      background-color: #E2EBFA;\n",
              "      box-shadow: 0px 1px 2px rgba(60, 64, 67, 0.3), 0px 1px 3px 1px rgba(60, 64, 67, 0.15);\n",
              "      fill: #174EA6;\n",
              "    }\n",
              "\n",
              "    [theme=dark] .colab-df-convert {\n",
              "      background-color: #3B4455;\n",
              "      fill: #D2E3FC;\n",
              "    }\n",
              "\n",
              "    [theme=dark] .colab-df-convert:hover {\n",
              "      background-color: #434B5C;\n",
              "      box-shadow: 0px 1px 3px 1px rgba(0, 0, 0, 0.15);\n",
              "      filter: drop-shadow(0px 1px 2px rgba(0, 0, 0, 0.3));\n",
              "      fill: #FFFFFF;\n",
              "    }\n",
              "  </style>\n",
              "\n",
              "      <script>\n",
              "        const buttonEl =\n",
              "          document.querySelector('#df-d5baf95b-4b36-483d-a40e-4d8c46f00a18 button.colab-df-convert');\n",
              "        buttonEl.style.display =\n",
              "          google.colab.kernel.accessAllowed ? 'block' : 'none';\n",
              "\n",
              "        async function convertToInteractive(key) {\n",
              "          const element = document.querySelector('#df-d5baf95b-4b36-483d-a40e-4d8c46f00a18');\n",
              "          const dataTable =\n",
              "            await google.colab.kernel.invokeFunction('convertToInteractive',\n",
              "                                                     [key], {});\n",
              "          if (!dataTable) return;\n",
              "\n",
              "          const docLinkHtml = 'Like what you see? Visit the ' +\n",
              "            '<a target=\"_blank\" href=https://colab.research.google.com/notebooks/data_table.ipynb>data table notebook</a>'\n",
              "            + ' to learn more about interactive tables.';\n",
              "          element.innerHTML = '';\n",
              "          dataTable['output_type'] = 'display_data';\n",
              "          await google.colab.output.renderOutput(dataTable, element);\n",
              "          const docLink = document.createElement('div');\n",
              "          docLink.innerHTML = docLinkHtml;\n",
              "          element.appendChild(docLink);\n",
              "        }\n",
              "      </script>\n",
              "    </div>\n",
              "  </div>\n",
              "  "
            ],
            "text/plain": [
              "     Unnamed: 0        Date  sentiment_value\n",
              "0             0  2019-11-01         0.125874\n",
              "1             1  2019-11-02         0.150935\n",
              "2             2  2019-11-03         0.150765\n",
              "3             3  2019-11-04         0.153959\n",
              "4             4  2019-11-05         0.229067\n",
              "..          ...         ...              ...\n",
              "772         772  2021-12-12        -0.039450\n",
              "773         773  2021-12-13        -0.099832\n",
              "774         774  2021-12-14         0.023364\n",
              "775         775  2021-12-15         0.054805\n",
              "776         776  2021-12-16        -0.048986\n",
              "\n",
              "[777 rows x 3 columns]"
            ]
          },
          "metadata": {},
          "execution_count": 10
        }
      ]
    },
    {
      "cell_type": "code",
      "source": [
        "twitter_data = pd.read_csv(\"group2.csv\")\n",
        "twitter_data['Date']= pd.to_datetime(twitter_data['Date'])\n",
        "twitter_data = twitter_data.drop(columns=['Unnamed: 0'])\n",
        "twitter_data = twitter_data.rename(columns={\"sentiment_value\":\"Average_Twitter_Sentiment\"})"
      ],
      "metadata": {
        "id": "hBnN6gvUHkS1"
      },
      "execution_count": 11,
      "outputs": []
    },
    {
      "cell_type": "code",
      "metadata": {
        "id": "OhWq4ZMSppeG"
      },
      "source": [
        "data = BTC.copy()\n",
        "data = data.reset_index()\n",
        "data.drop(data.tail(16).index,inplace = True)\n",
        "#data.tail()"
      ],
      "execution_count": 12,
      "outputs": []
    },
    {
      "cell_type": "code",
      "source": [
        "data = pd.merge(data, reddit_data, how=\"left\", on=[\"Date\"])\n",
        "data = data.fillna(method=\"ffill\")"
      ],
      "metadata": {
        "id": "OwyoNAnHsR68"
      },
      "execution_count": 13,
      "outputs": []
    },
    {
      "cell_type": "code",
      "source": [
        "data = pd.merge(data, twitter_data, how=\"left\", on=[\"Date\"])\n",
        "data = data.fillna(method=\"ffill\")"
      ],
      "metadata": {
        "id": "LyrqY6OVIJmF"
      },
      "execution_count": 14,
      "outputs": []
    },
    {
      "cell_type": "markdown",
      "source": [
        "### LSTM "
      ],
      "metadata": {
        "id": "t0Z5jz29ex-8"
      }
    },
    {
      "cell_type": "code",
      "source": [
        "data_training = data[data['Date']<= train_test_split_date].copy()\n",
        "data_test = data[data['Date']> train_test_split_date].copy()\n",
        "\n",
        "#Drop Date and Adj Close columns\n",
        "training_data = data_training.drop(['Date', 'Adj Close'], axis = 1)\n",
        "\n",
        "#Scale data using MinMax Scaler\n",
        "scaler = MinMaxScaler()\n",
        "training_data = scaler.fit_transform(training_data)\n",
        "\n",
        "#Reshape data into (samples,timesteps,features)\n",
        "X_train = [] \n",
        "Y_train = []\n",
        "for i in range(timestep, training_data.shape[0]):\n",
        "  X_train.append(training_data[i-timestep:i])\n",
        "  Y_train.append(training_data[i,0])\n",
        "X_train, Y_train = np.array(X_train), np.array(Y_train)\n",
        "\n",
        "#Define LSTM Architecture\n",
        "model = Sequential() \n",
        "model.add(LSTM(units = 32, activation = 'relu', return_sequences = True))\n",
        "model.add(Dropout(0.3)) \n",
        "model.add(LSTM(units = 64, activation = 'relu', return_sequences = True))\n",
        "model.add(Dropout(0.4)) \n",
        "model.add(LSTM(units = 128, activation = 'relu'))\n",
        "model.add(Dropout(0.5)) \n",
        "model.add(Dense(units =1))\n",
        "\n",
        "#Compile Model\n",
        "model.compile(optimizer = 'adam', loss = 'mean_squared_error')\n",
        "history= model.fit(X_train, Y_train, epochs = epochs, batch_size =batch_size, validation_split=validation_split)"
      ],
      "metadata": {
        "colab": {
          "base_uri": "https://localhost:8080/"
        },
        "id": "xADSVohaeB-M",
        "outputId": "b489b1ad-5ecd-460b-8ada-7d16006d6aa2"
      },
      "execution_count": 19,
      "outputs": [
        {
          "output_type": "stream",
          "name": "stdout",
          "text": [
            "Epoch 1/15\n",
            "12/12 [==============================] - 4s 56ms/step - loss: 0.1442 - val_loss: 0.2629\n",
            "Epoch 2/15\n",
            "12/12 [==============================] - 0s 18ms/step - loss: 0.0900 - val_loss: 0.0588\n",
            "Epoch 3/15\n",
            "12/12 [==============================] - 0s 17ms/step - loss: 0.0610 - val_loss: 0.0283\n",
            "Epoch 4/15\n",
            "12/12 [==============================] - 0s 15ms/step - loss: 0.0243 - val_loss: 0.0031\n",
            "Epoch 5/15\n",
            "12/12 [==============================] - 0s 15ms/step - loss: 0.0148 - val_loss: 0.0072\n",
            "Epoch 6/15\n",
            "12/12 [==============================] - 0s 16ms/step - loss: 0.0123 - val_loss: 0.0214\n",
            "Epoch 7/15\n",
            "12/12 [==============================] - 0s 16ms/step - loss: 0.0092 - val_loss: 0.0048\n",
            "Epoch 8/15\n",
            "12/12 [==============================] - 0s 15ms/step - loss: 0.0092 - val_loss: 0.0045\n",
            "Epoch 9/15\n",
            "12/12 [==============================] - 0s 15ms/step - loss: 0.0068 - val_loss: 0.0051\n",
            "Epoch 10/15\n",
            "12/12 [==============================] - 0s 15ms/step - loss: 0.0069 - val_loss: 0.0027\n",
            "Epoch 11/15\n",
            "12/12 [==============================] - 0s 14ms/step - loss: 0.0069 - val_loss: 0.0018\n",
            "Epoch 12/15\n",
            "12/12 [==============================] - 0s 16ms/step - loss: 0.0077 - val_loss: 0.0025\n",
            "Epoch 13/15\n",
            "12/12 [==============================] - 0s 16ms/step - loss: 0.0054 - val_loss: 0.0027\n",
            "Epoch 14/15\n",
            "12/12 [==============================] - 0s 15ms/step - loss: 0.0064 - val_loss: 0.0043\n",
            "Epoch 15/15\n",
            "12/12 [==============================] - 0s 17ms/step - loss: 0.0050 - val_loss: 0.0013\n"
          ]
        }
      ]
    },
    {
      "cell_type": "code",
      "metadata": {
        "colab": {
          "base_uri": "https://localhost:8080/",
          "height": 281
        },
        "id": "0rUNbqqerk8E",
        "outputId": "1ce0efd2-d292-41c3-a032-73f907e34cfe"
      },
      "source": [
        "loss = history.history['loss']\n",
        "val_loss = history.history['val_loss']\n",
        "epochs = range(len(loss))\n",
        "plt.figure()\n",
        "plt.plot(epochs, loss, 'b', label='Training loss')\n",
        "plt.plot(epochs, val_loss, 'r', label='Validation loss')\n",
        "plt.title(\"Training and Validation Loss\")\n",
        "plt.legend()\n",
        "plt.show()"
      ],
      "execution_count": 20,
      "outputs": [
        {
          "output_type": "display_data",
          "data": {
            "image/png": "[encoded data removed]",
            "text/plain": [
              "<Figure size 432x288 with 1 Axes>"
            ]
          },
          "metadata": {
            "needs_background": "light"
          }
        }
      ]
    },
    {
      "cell_type": "code",
      "metadata": {
        "colab": {
          "base_uri": "https://localhost:8080/",
          "height": 206
        },
        "id": "vx6IfZIpvy11",
        "outputId": "d129dabd-168f-42ec-d4b2-afa89e099842"
      },
      "source": [
        "part_60_days = data_training.tail(60)\n",
        "df= part_60_days.append(data_test, ignore_index = True)\n",
        "df = df.drop(['Date', 'Adj Close'], axis = 1)\n",
        "df.head()"
      ],
      "execution_count": 21,
      "outputs": [
        {
          "output_type": "execute_result",
          "data": {
            "text/html": [
              "\n",
              "  <div id=\"df-513d4842-64f1-4648-ac89-504178b439be\">\n",
              "    <div class=\"colab-df-container\">\n",
              "      <div>\n",
              "<style scoped>\n",
              "    .dataframe tbody tr th:only-of-type {\n",
              "        vertical-align: middle;\n",
              "    }\n",
              "\n",
              "    .dataframe tbody tr th {\n",
              "        vertical-align: top;\n",
              "    }\n",
              "\n",
              "    .dataframe thead th {\n",
              "        text-align: right;\n",
              "    }\n",
              "</style>\n",
              "<table border=\"1\" class=\"dataframe\">\n",
              "  <thead>\n",
              "    <tr style=\"text-align: right;\">\n",
              "      <th></th>\n",
              "      <th>Open</th>\n",
              "      <th>High</th>\n",
              "      <th>Low</th>\n",
              "      <th>Close</th>\n",
              "      <th>Volume</th>\n",
              "      <th>Average_Reddit_Sentiment</th>\n",
              "      <th>Average_Twitter_Sentiment</th>\n",
              "    </tr>\n",
              "  </thead>\n",
              "  <tbody>\n",
              "    <tr>\n",
              "      <th>0</th>\n",
              "      <td>33889.605469</td>\n",
              "      <td>33907.906250</td>\n",
              "      <td>32133.183594</td>\n",
              "      <td>32877.371094</td>\n",
              "      <td>29910396946</td>\n",
              "      <td>-0.369705</td>\n",
              "      <td>0.197484</td>\n",
              "    </tr>\n",
              "    <tr>\n",
              "      <th>1</th>\n",
              "      <td>32861.671875</td>\n",
              "      <td>34042.292969</td>\n",
              "      <td>32318.880859</td>\n",
              "      <td>33798.011719</td>\n",
              "      <td>27436021028</td>\n",
              "      <td>-0.353124</td>\n",
              "      <td>0.162669</td>\n",
              "    </tr>\n",
              "    <tr>\n",
              "      <th>2</th>\n",
              "      <td>33811.242188</td>\n",
              "      <td>34209.070312</td>\n",
              "      <td>33116.011719</td>\n",
              "      <td>33520.519531</td>\n",
              "      <td>22971873468</td>\n",
              "      <td>-0.341142</td>\n",
              "      <td>0.181378</td>\n",
              "    </tr>\n",
              "    <tr>\n",
              "      <th>3</th>\n",
              "      <td>33509.078125</td>\n",
              "      <td>34584.703125</td>\n",
              "      <td>33346.738281</td>\n",
              "      <td>34240.187500</td>\n",
              "      <td>20108729370</td>\n",
              "      <td>-0.286212</td>\n",
              "      <td>0.117202</td>\n",
              "    </tr>\n",
              "    <tr>\n",
              "      <th>4</th>\n",
              "      <td>34254.015625</td>\n",
              "      <td>34592.156250</td>\n",
              "      <td>32697.308594</td>\n",
              "      <td>33155.847656</td>\n",
              "      <td>24321499537</td>\n",
              "      <td>-0.164588</td>\n",
              "      <td>0.082976</td>\n",
              "    </tr>\n",
              "  </tbody>\n",
              "</table>\n",
              "</div>\n",
              "      <button class=\"colab-df-convert\" onclick=\"convertToInteractive('df-513d4842-64f1-4648-ac89-504178b439be')\"\n",
              "              title=\"Convert this dataframe to an interactive table.\"\n",
              "              style=\"display:none;\">\n",
              "        \n",
              "  <svg xmlns=\"http://www.w3.org/2000/svg\" height=\"24px\"viewBox=\"0 0 24 24\"\n",
              "       width=\"24px\">\n",
              "    <path d=\"M0 0h24v24H0V0z\" fill=\"none\"/>\n",
              "    <path d=\"M18.56 5.44l.94 2.06.94-2.06 2.06-.94-2.06-.94-.94-2.06-.94 2.06-2.06.94zm-11 1L8.5 8.5l.94-2.06 2.06-.94-2.06-.94L8.5 2.5l-.94 2.06-2.06.94zm10 10l.94 2.06.94-2.06 2.06-.94-2.06-.94-.94-2.06-.94 2.06-2.06.94z\"/><path d=\"M17.41 7.96l-1.37-1.37c-.4-.4-.92-.59-1.43-.59-.52 0-1.04.2-1.43.59L10.3 9.45l-7.72 7.72c-.78.78-.78 2.05 0 2.83L4 21.41c.39.39.9.59 1.41.59.51 0 1.02-.2 1.41-.59l7.78-7.78 2.81-2.81c.8-.78.8-2.07 0-2.86zM5.41 20L4 18.59l7.72-7.72 1.47 1.35L5.41 20z\"/>\n",
              "  </svg>\n",
              "      </button>\n",
              "      \n",
              "  <style>\n",
              "    .colab-df-container {\n",
              "      display:flex;\n",
              "      flex-wrap:wrap;\n",
              "      gap: 12px;\n",
              "    }\n",
              "\n",
              "    .colab-df-convert {\n",
              "      background-color: #E8F0FE;\n",
              "      border: none;\n",
              "      border-radius: 50%;\n",
              "      cursor: pointer;\n",
              "      display: none;\n",
              "      fill: #1967D2;\n",
              "      height: 32px;\n",
              "      padding: 0 0 0 0;\n",
              "      width: 32px;\n",
              "    }\n",
              "\n",
              "    .colab-df-convert:hover {\n",
              "      background-color: #E2EBFA;\n",
              "      box-shadow: 0px 1px 2px rgba(60, 64, 67, 0.3), 0px 1px 3px 1px rgba(60, 64, 67, 0.15);\n",
              "      fill: #174EA6;\n",
              "    }\n",
              "\n",
              "    [theme=dark] .colab-df-convert {\n",
              "      background-color: #3B4455;\n",
              "      fill: #D2E3FC;\n",
              "    }\n",
              "\n",
              "    [theme=dark] .colab-df-convert:hover {\n",
              "      background-color: #434B5C;\n",
              "      box-shadow: 0px 1px 3px 1px rgba(0, 0, 0, 0.15);\n",
              "      filter: drop-shadow(0px 1px 2px rgba(0, 0, 0, 0.3));\n",
              "      fill: #FFFFFF;\n",
              "    }\n",
              "  </style>\n",
              "\n",
              "      <script>\n",
              "        const buttonEl =\n",
              "          document.querySelector('#df-513d4842-64f1-4648-ac89-504178b439be button.colab-df-convert');\n",
              "        buttonEl.style.display =\n",
              "          google.colab.kernel.accessAllowed ? 'block' : 'none';\n",
              "\n",
              "        async function convertToInteractive(key) {\n",
              "          const element = document.querySelector('#df-513d4842-64f1-4648-ac89-504178b439be');\n",
              "          const dataTable =\n",
              "            await google.colab.kernel.invokeFunction('convertToInteractive',\n",
              "                                                     [key], {});\n",
              "          if (!dataTable) return;\n",
              "\n",
              "          const docLinkHtml = 'Like what you see? Visit the ' +\n",
              "            '<a target=\"_blank\" href=https://colab.research.google.com/notebooks/data_table.ipynb>data table notebook</a>'\n",
              "            + ' to learn more about interactive tables.';\n",
              "          element.innerHTML = '';\n",
              "          dataTable['output_type'] = 'display_data';\n",
              "          await google.colab.output.renderOutput(dataTable, element);\n",
              "          const docLink = document.createElement('div');\n",
              "          docLink.innerHTML = docLinkHtml;\n",
              "          element.appendChild(docLink);\n",
              "        }\n",
              "      </script>\n",
              "    </div>\n",
              "  </div>\n",
              "  "
            ],
            "text/plain": [
              "           Open  ...  Average_Twitter_Sentiment\n",
              "0  33889.605469  ...                   0.197484\n",
              "1  32861.671875  ...                   0.162669\n",
              "2  33811.242188  ...                   0.181378\n",
              "3  33509.078125  ...                   0.117202\n",
              "4  34254.015625  ...                   0.082976\n",
              "\n",
              "[5 rows x 7 columns]"
            ]
          },
          "metadata": {},
          "execution_count": 21
        }
      ]
    },
    {
      "cell_type": "code",
      "metadata": {
        "id": "AyNcSUJGv7YV"
      },
      "source": [
        "inputs = scaler.transform(df) \n",
        "#inputs"
      ],
      "execution_count": 22,
      "outputs": []
    },
    {
      "cell_type": "code",
      "metadata": {
        "colab": {
          "base_uri": "https://localhost:8080/"
        },
        "id": "JOGWOSr5wTcF",
        "outputId": "4c9d0920-48de-4e18-b282-74cb6c5fa46e"
      },
      "source": [
        "X_test = []\n",
        "Y_test = []\n",
        "for i in range(timestep, inputs.shape[0]):\n",
        "  X_test.append(inputs[i-timestep:i])\n",
        "  Y_test.append(inputs[i,0])\n",
        "X_test, Y_test = np.array(X_test), np.array(Y_test)\n",
        "X_test.shape"
      ],
      "execution_count": 23,
      "outputs": [
        {
          "output_type": "execute_result",
          "data": {
            "text/plain": [
              "(149, 3, 7)"
            ]
          },
          "metadata": {},
          "execution_count": 23
        }
      ]
    },
    {
      "cell_type": "code",
      "source": [
        "Y_test"
      ],
      "metadata": {
        "colab": {
          "base_uri": "https://localhost:8080/"
        },
        "id": "5oE8-vYdeKFK",
        "outputId": "b14a9e26-2a9e-4fbe-ec7f-39784c177b66"
      },
      "execution_count": 24,
      "outputs": [
        {
          "output_type": "execute_result",
          "data": {
            "text/plain": [
              "array([0.48711427, 0.49984364, 0.48055922, 0.47369635, 0.47547399,\n",
              "       0.45861985, 0.45102871, 0.4533625 , 0.45791003, 0.44147621,\n",
              "       0.42367069, 0.46370044, 0.46655558, 0.4885608 , 0.50046354,\n",
              "       0.51915316, 0.5514834 , 0.5895406 , 0.59795236, 0.5984997 ,\n",
              "       0.63556014, 0.62299271, 0.59644536, 0.58399073, 0.56749977,\n",
              "       0.59366438, 0.61282585, 0.64643641, 0.67619727, 0.66282584,\n",
              "       0.70535612, 0.69371684, 0.69332682, 0.67389475, 0.73149777,\n",
              "       0.71929672, 0.71798596, 0.69947123, 0.67811645, 0.67905855,\n",
              "       0.71291361, 0.75740953, 0.74958383, 0.75680464, 0.76142984,\n",
              "       0.73007213, 0.75186566, 0.71584304, 0.75306087, 0.75030399,\n",
              "       0.74899851, 0.71806079, 0.71934979, 0.74853707, 0.75674611,\n",
              "       0.7690677 , 0.76784652, 0.79913681, 0.81437021, 0.7147017 ,\n",
              "       0.69670788, 0.70733517, 0.68124506, 0.68700005, 0.70153472,\n",
              "       0.68278657, 0.71931948, 0.73744807, 0.73081966, 0.72231886,\n",
              "       0.73932686, 0.72211174, 0.64950261, 0.6096148 , 0.65886781,\n",
              "       0.68166304, 0.64657471, 0.64453679, 0.65329524, 0.63563864,\n",
              "       0.61622833, 0.62453789, 0.6632499 , 0.73708175, 0.72926507,\n",
              "       0.73830246, 0.75481024, 0.79431224, 0.8601339 , 0.83387878,\n",
              "       0.83605981, 0.85354133, 0.8498043 , 0.89752561, 0.8720891 ,\n",
              "       0.89489408, 0.89443391, 0.96729002, 0.95495474, 0.9662524 ,\n",
              "       0.97469993, 1.01300097, 1.04235186, 0.97802738, 0.95165639,\n",
              "       0.96316871, 0.95506194, 0.99161001, 0.9458016 , 0.91365479,\n",
              "       0.95046438, 0.97805255, 0.97140752, 0.9623503 , 0.95624661,\n",
              "       0.99539623, 0.99005575, 0.96473626, 0.95805144, 0.96635693,\n",
              "       0.99692953, 1.06879528, 1.05860412, 1.02486513, 1.02290157,\n",
              "       1.01083996, 1.01591932, 1.03413354, 1.00337385, 0.94217251,\n",
              "       0.94594064, 0.88674826, 0.90757753, 0.93518165, 0.91768952,\n",
              "       0.87663954, 0.89819237, 0.89134983, 0.92202021, 0.83275585,\n",
              "       0.8511525 , 0.89351124, 0.90270803, 0.88695051, 0.89223759,\n",
              "       0.88013587, 0.83260974, 0.75526407, 0.75888602])"
            ]
          },
          "metadata": {},
          "execution_count": 24
        }
      ]
    },
    {
      "cell_type": "code",
      "metadata": {
        "id": "jDcAM0mVzGpU"
      },
      "source": [
        "Y_pred = model.predict(X_test)"
      ],
      "execution_count": 25,
      "outputs": []
    },
    {
      "cell_type": "code",
      "metadata": {
        "colab": {
          "base_uri": "https://localhost:8080/"
        },
        "id": "G1R1_chR5bcw",
        "outputId": "822fec88-51ae-460e-a24d-3c691c5d5a70"
      },
      "source": [
        "scaler.scale_[0]"
      ],
      "execution_count": 30,
      "outputs": [
        {
          "output_type": "execute_result",
          "data": {
            "text/plain": [
              "1.7087831654954492e-05"
            ]
          },
          "metadata": {},
          "execution_count": 30
        }
      ]
    },
    {
      "cell_type": "code",
      "metadata": {
        "id": "3zGDGa1I5daL"
      },
      "source": [
        "scale = 1/1.70878317e-05\n",
        "Y_test = Y_test*scale \n",
        "Y_pred = Y_pred*scale\n",
        "#Y_pred"
      ],
      "execution_count": 27,
      "outputs": []
    },
    {
      "cell_type": "code",
      "metadata": {
        "colab": {
          "base_uri": "https://localhost:8080/"
        },
        "id": "JWo69E2U52p4",
        "outputId": "0dfb80e5-eed7-424c-c344-578c70086e20"
      },
      "source": [
        "Y_test\n"
      ],
      "execution_count": 28,
      "outputs": [
        {
          "output_type": "execute_result",
          "data": {
            "text/plain": [
              "array([28506.49992485, 29251.43742289, 28122.89055086, 27721.26750505,\n",
              "       27825.29680165, 26838.9725855 , 26394.73039917, 26531.30657069,\n",
              "       26797.43352311, 25835.70696314, 24793.70696589, 27136.29485034,\n",
              "       27303.3807874 , 28591.15226838, 29287.71476654, 30381.45304491,\n",
              "       32273.45694617, 34500.60928405, 34992.87490775, 35024.90615767,\n",
              "       37193.72646445, 36458.26552889, 34904.68350174, 34175.82412866,\n",
              "       33210.7538187 , 34741.93740842, 35863.28896796, 37830.21865028,\n",
              "       39571.85927068, 38789.347554  , 41278.26942244, 40597.12489298,\n",
              "       40574.30067429, 39437.11317729, 42808.10926215, 42094.08973279,\n",
              "       42017.38270174, 40933.87879834, 39684.17177039, 39739.30458274,\n",
              "       41720.54285877, 44324.49597691, 43866.52722811, 44289.0975395 ,\n",
              "       44559.76941379, 42724.67957487, 44000.06238401, 41891.97645207,\n",
              "       44070.00769633, 43908.67175925, 43832.27332195, 42021.76160798,\n",
              "       42097.19520153, 43805.26941577, 44285.67175826, 45006.74597511,\n",
              "       44935.28113155, 46766.42565797, 47657.90221812, 41825.18348349,\n",
              "       40772.16395502, 41394.08582838, 39867.26161366, 40204.05067527,\n",
              "       41054.63661053, 39957.47255092, 42095.42176403, 43156.32801123,\n",
              "       42768.42566851, 42270.94910732, 43266.2772297 , 42258.8280136 ,\n",
              "       38009.6561498 , 35675.37490596, 38557.71864836, 39891.72255109,\n",
              "       37838.31240025, 37719.05068182, 38231.60536797, 37198.32021444,\n",
              "       36062.40615494, 36548.6913099 , 38814.16396018, 43134.89051129,\n",
              "       42677.44910625, 43206.3280111 , 44172.38269606, 46484.08581496,\n",
              "       50336.04674231, 48799.56627761, 48927.20299602, 49950.24205583,\n",
              "       49731.5467439 , 52524.25376779, 51035.67955296, 52370.2537682 ,\n",
              "       52343.32408077, 56606.94906953, 55885.07407143, 56546.22641344,\n",
              "       57040.58578713, 59282.00765623, 60999.6560892 , 57235.31234912,\n",
              "       55692.05063444, 56365.76547641, 55891.34750891, 58030.18344078,\n",
              "       55349.42172909, 53468.1522028 , 55622.29282212, 57236.78500537,\n",
              "       56847.91000639, 56317.87094529, 55960.67563373, 58251.75765894,\n",
              "       57939.22640977, 56457.49985117, 56066.2967272 , 56552.34360092,\n",
              "       58341.48812746, 62547.15608512, 61950.75764919, 59976.3123419 ,\n",
              "       59861.40218595, 59155.54281281, 59452.79281203, 60518.71077797,\n",
              "       58718.61703271, 55137.0428234 , 55357.55844782, 51893.55064445,\n",
              "       53112.50376624, 54727.92954323, 53704.26938968, 51301.97642726,\n",
              "       52563.27329894, 52162.83970624, 53957.70688901, 48733.85143403,\n",
              "       49810.44518119, 52289.32798716, 52827.53501699, 51905.38658192,\n",
              "       52214.79283111, 51506.58580172, 48725.3006528 , 44198.94128974,\n",
              "       44410.90222668])"
            ]
          },
          "metadata": {},
          "execution_count": 28
        }
      ]
    },
    {
      "cell_type": "code",
      "metadata": {
        "colab": {
          "base_uri": "https://localhost:8080/",
          "height": 350
        },
        "id": "OEci6Rtd6J6N",
        "outputId": "f6c3eeb8-afa8-4290-e382-9e92527491c8"
      },
      "source": [
        "plt.figure(figsize=(14,5))\n",
        "plt.plot(Y_test, color = 'red', label = 'Real Bitcoin Price')\n",
        "plt.plot(Y_pred, color = 'green', label = 'Predicted Bitcoin Price')\n",
        "plt.title('Bitcoin Price Prediction using RNN-LSTM')\n",
        "plt.xlabel('Time')\n",
        "plt.ylabel('Price')\n",
        "plt.legend()\n",
        "plt.show()"
      ],
      "execution_count": 29,
      "outputs": [
        {
          "output_type": "display_data",
          "data": {
            "image/png": "[encoded data removed]",
            "text/plain": [
              "<Figure size 1008x360 with 1 Axes>"
            ]
          },
          "metadata": {
            "needs_background": "light"
          }
        }
      ]
    },
    {
      "cell_type": "code",
      "source": [
        "compare_df = pd.DataFrame()\n",
        "compare_df['Test'] = Y_test\n",
        "compare_df['Train'] = Y_pred.reshape(-1)"
      ],
      "metadata": {
        "id": "kUN94IC6p0ow"
      },
      "execution_count": null,
      "outputs": []
    },
    {
      "cell_type": "code",
      "source": [
        "compare_df.head()"
      ],
      "metadata": {
        "colab": {
          "base_uri": "https://localhost:8080/",
          "height": 206
        },
        "id": "EJILdpdDuTZo",
        "outputId": "a409c686-8262-4999-d400-fce3d86df27e"
      },
      "execution_count": null,
      "outputs": [
        {
          "output_type": "execute_result",
          "data": {
            "text/html": [
              "\n",
              "  <div id=\"df-503e26df-9f9c-40bb-8e3b-b0f20053f825\">\n",
              "    <div class=\"colab-df-container\">\n",
              "      <div>\n",
              "<style scoped>\n",
              "    .dataframe tbody tr th:only-of-type {\n",
              "        vertical-align: middle;\n",
              "    }\n",
              "\n",
              "    .dataframe tbody tr th {\n",
              "        vertical-align: top;\n",
              "    }\n",
              "\n",
              "    .dataframe thead th {\n",
              "        text-align: right;\n",
              "    }\n",
              "</style>\n",
              "<table border=\"1\" class=\"dataframe\">\n",
              "  <thead>\n",
              "    <tr style=\"text-align: right;\">\n",
              "      <th></th>\n",
              "      <th>Test</th>\n",
              "      <th>Train</th>\n",
              "    </tr>\n",
              "  </thead>\n",
              "  <tbody>\n",
              "    <tr>\n",
              "      <th>0</th>\n",
              "      <td>43206.328129</td>\n",
              "      <td>38834.925781</td>\n",
              "    </tr>\n",
              "    <tr>\n",
              "      <th>1</th>\n",
              "      <td>44172.382817</td>\n",
              "      <td>39746.304688</td>\n",
              "    </tr>\n",
              "    <tr>\n",
              "      <th>2</th>\n",
              "      <td>46484.085942</td>\n",
              "      <td>40125.492188</td>\n",
              "    </tr>\n",
              "    <tr>\n",
              "      <th>3</th>\n",
              "      <td>50336.046880</td>\n",
              "      <td>40937.839844</td>\n",
              "    </tr>\n",
              "    <tr>\n",
              "      <th>4</th>\n",
              "      <td>48799.566411</td>\n",
              "      <td>42538.566406</td>\n",
              "    </tr>\n",
              "  </tbody>\n",
              "</table>\n",
              "</div>\n",
              "      <button class=\"colab-df-convert\" onclick=\"convertToInteractive('df-503e26df-9f9c-40bb-8e3b-b0f20053f825')\"\n",
              "              title=\"Convert this dataframe to an interactive table.\"\n",
              "              style=\"display:none;\">\n",
              "        \n",
              "  <svg xmlns=\"http://www.w3.org/2000/svg\" height=\"24px\"viewBox=\"0 0 24 24\"\n",
              "       width=\"24px\">\n",
              "    <path d=\"M0 0h24v24H0V0z\" fill=\"none\"/>\n",
              "    <path d=\"M18.56 5.44l.94 2.06.94-2.06 2.06-.94-2.06-.94-.94-2.06-.94 2.06-2.06.94zm-11 1L8.5 8.5l.94-2.06 2.06-.94-2.06-.94L8.5 2.5l-.94 2.06-2.06.94zm10 10l.94 2.06.94-2.06 2.06-.94-2.06-.94-.94-2.06-.94 2.06-2.06.94z\"/><path d=\"M17.41 7.96l-1.37-1.37c-.4-.4-.92-.59-1.43-.59-.52 0-1.04.2-1.43.59L10.3 9.45l-7.72 7.72c-.78.78-.78 2.05 0 2.83L4 21.41c.39.39.9.59 1.41.59.51 0 1.02-.2 1.41-.59l7.78-7.78 2.81-2.81c.8-.78.8-2.07 0-2.86zM5.41 20L4 18.59l7.72-7.72 1.47 1.35L5.41 20z\"/>\n",
              "  </svg>\n",
              "      </button>\n",
              "      \n",
              "  <style>\n",
              "    .colab-df-container {\n",
              "      display:flex;\n",
              "      flex-wrap:wrap;\n",
              "      gap: 12px;\n",
              "    }\n",
              "\n",
              "    .colab-df-convert {\n",
              "      background-color: #E8F0FE;\n",
              "      border: none;\n",
              "      border-radius: 50%;\n",
              "      cursor: pointer;\n",
              "      display: none;\n",
              "      fill: #1967D2;\n",
              "      height: 32px;\n",
              "      padding: 0 0 0 0;\n",
              "      width: 32px;\n",
              "    }\n",
              "\n",
              "    .colab-df-convert:hover {\n",
              "      background-color: #E2EBFA;\n",
              "      box-shadow: 0px 1px 2px rgba(60, 64, 67, 0.3), 0px 1px 3px 1px rgba(60, 64, 67, 0.15);\n",
              "      fill: #174EA6;\n",
              "    }\n",
              "\n",
              "    [theme=dark] .colab-df-convert {\n",
              "      background-color: #3B4455;\n",
              "      fill: #D2E3FC;\n",
              "    }\n",
              "\n",
              "    [theme=dark] .colab-df-convert:hover {\n",
              "      background-color: #434B5C;\n",
              "      box-shadow: 0px 1px 3px 1px rgba(0, 0, 0, 0.15);\n",
              "      filter: drop-shadow(0px 1px 2px rgba(0, 0, 0, 0.3));\n",
              "      fill: #FFFFFF;\n",
              "    }\n",
              "  </style>\n",
              "\n",
              "      <script>\n",
              "        const buttonEl =\n",
              "          document.querySelector('#df-503e26df-9f9c-40bb-8e3b-b0f20053f825 button.colab-df-convert');\n",
              "        buttonEl.style.display =\n",
              "          google.colab.kernel.accessAllowed ? 'block' : 'none';\n",
              "\n",
              "        async function convertToInteractive(key) {\n",
              "          const element = document.querySelector('#df-503e26df-9f9c-40bb-8e3b-b0f20053f825');\n",
              "          const dataTable =\n",
              "            await google.colab.kernel.invokeFunction('convertToInteractive',\n",
              "                                                     [key], {});\n",
              "          if (!dataTable) return;\n",
              "\n",
              "          const docLinkHtml = 'Like what you see? Visit the ' +\n",
              "            '<a target=\"_blank\" href=https://colab.research.google.com/notebooks/data_table.ipynb>data table notebook</a>'\n",
              "            + ' to learn more about interactive tables.';\n",
              "          element.innerHTML = '';\n",
              "          dataTable['output_type'] = 'display_data';\n",
              "          await google.colab.output.renderOutput(dataTable, element);\n",
              "          const docLink = document.createElement('div');\n",
              "          docLink.innerHTML = docLinkHtml;\n",
              "          element.appendChild(docLink);\n",
              "        }\n",
              "      </script>\n",
              "    </div>\n",
              "  </div>\n",
              "  "
            ],
            "text/plain": [
              "           Test         Train\n",
              "0  43206.328129  38834.925781\n",
              "1  44172.382817  39746.304688\n",
              "2  46484.085942  40125.492188\n",
              "3  50336.046880  40937.839844\n",
              "4  48799.566411  42538.566406"
            ]
          },
          "metadata": {},
          "execution_count": 56
        }
      ]
    },
    {
      "cell_type": "code",
      "source": [
        "com = compare_df.diff()"
      ],
      "metadata": {
        "id": "cp04J-A6uVHf"
      },
      "execution_count": null,
      "outputs": []
    },
    {
      "cell_type": "code",
      "source": [
        "com[com < 0] = 0\n",
        "com[com > 0] = 1"
      ],
      "metadata": {
        "id": "HrTLrhBvviKU"
      },
      "execution_count": null,
      "outputs": []
    },
    {
      "cell_type": "code",
      "source": [
        "com['Correct_Prediction'] = np.where(com['Test']== com['Train'], True, False)\n",
        "#com['Correct_Prediction'].value_counts()\n",
        "#com.head()"
      ],
      "metadata": {
        "id": "Ae9M8QbO1ng0"
      },
      "execution_count": null,
      "outputs": []
    },
    {
      "cell_type": "code",
      "source": [
        "com1 = com[:18]\n",
        "com1['Correct_Prediction'].value_counts()"
      ],
      "metadata": {
        "id": "3M_bq-XRAAyl"
      },
      "execution_count": null,
      "outputs": []
    },
    {
      "cell_type": "code",
      "source": [
        "daily_hit_ratio = True_predictions_daily/(True_predictions_daily + False_predictions_daily) * 100\n",
        "daily_hit_ratio"
      ],
      "metadata": {
        "colab": {
          "base_uri": "https://localhost:8080/"
        },
        "id": "0ph97g47BFSX",
        "outputId": "75c73bb8-5142-4414-dc7f-553f82ca37b0"
      },
      "execution_count": null,
      "outputs": [
        {
          "output_type": "execute_result",
          "data": {
            "text/plain": [
              "70.0"
            ]
          },
          "metadata": {},
          "execution_count": 99
        }
      ]
    },
    {
      "cell_type": "code",
      "source": [
        "weekly_hit_ratio = True_predictions_weekly/(True_predictions_weekly + False_predictions_weekly) * 100\n",
        "weekly_hit_ratio"
      ],
      "metadata": {
        "colab": {
          "base_uri": "https://localhost:8080/"
        },
        "id": "v2WOaV8QB9pA",
        "outputId": "5fcf14e1-4675-49ac-d45b-22070297cf42"
      },
      "execution_count": null,
      "outputs": [
        {
          "output_type": "execute_result",
          "data": {
            "text/plain": [
              "90.0"
            ]
          },
          "metadata": {},
          "execution_count": 100
        }
      ]
    }
  ]
}